{
 "cells": [
  {
   "cell_type": "code",
   "execution_count": 5,
   "metadata": {},
   "outputs": [],
   "source": [
    "import io, os, sys, types\n",
    "from IPython import get_ipython\n",
    "from Utils import NotebookFinder\n",
    "from Configuration import setDbgPrint\n",
    "import matplotlib.pyplot as plt\n",
    "import numpy as np\n",
    "import test_brain\n",
    "from runs import sim\n",
    "sys.meta_path.append(NotebookFinder())\n"
   ]
  },
  {
   "cell_type": "code",
   "execution_count": 6,
   "metadata": {},
   "outputs": [],
   "source": [
    "def testRun(Kcount):\n",
    "    statusPeriod = sim['cfg']['run']['statusPeriod']\n",
    "    dbgPrint = setDbgPrint(sim['cfg']['run'].get('dbgPrint'))\n",
    "    #env = Env(log=dbgPrint, statusPeriod= statusPeriod)\n",
    "    run = test_brain.runTest(Kcount = Kcount)\n",
    "    run.run_(cfg=sim['cfg']['run'])\n",
    "    # plt.figure()\n",
    "    # plt.plot(\n",
    "    #\n",
    "    #     np.divide(np.cumsum([1 if i >= 10 else 0 for i in run.count_history]), np.arange(len(run.count_history)) + 1),\n",
    "    #     '.-')\n",
    "    # plt.xlabel('Training Step')\n",
    "    # plt.ylabel('Correct rate')\n",
    "    # plt.grid(True)\n",
    "    # plt.show()"
   ]
  },
  {
   "cell_type": "code",
   "execution_count": null,
   "metadata": {},
   "outputs": [],
   "source": []
  }
 ],
 "metadata": {
  "kernelspec": {
   "display_name": "Python 3",
   "language": "python",
   "name": "python3"
  },
  "language_info": {
   "codemirror_mode": {
    "name": "ipython",
    "version": 3
   },
   "file_extension": ".py",
   "mimetype": "text/x-python",
   "name": "python",
   "nbconvert_exporter": "python",
   "pygments_lexer": "ipython3",
   "version": "3.6.8"
  }
 },
 "nbformat": 4,
 "nbformat_minor": 1
}
