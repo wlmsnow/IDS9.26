{
 "cells": [
  {
   "cell_type": "code",
   "execution_count": 1,
   "metadata": {},
   "outputs": [],
   "source": [
    "def null(*args):\n",
    "    pass"
   ]
  },
  {
   "cell_type": "code",
   "execution_count": 2,
   "metadata": {},
   "outputs": [],
   "source": [
    "def setDbgPrint(dbgPrint):\n",
    "    if type(dbgPrint) == str:\n",
    "        dbgPrint = eval(dbgPrint)\n",
    "\n",
    "    if dbgPrint is None or dbgPrint in ['', {}]:\n",
    "        dbgPrint = lambda *args: None\n",
    "\n",
    "    return dbgPrint"
   ]
  },
  {
   "cell_type": "code",
   "execution_count": 3,
   "metadata": {},
   "outputs": [],
   "source": [
    "def printPeriodic(*args, **kwargs):\n",
    "    \"\"\"Print periodically per optional arguments 'period' & 'counter' when 'counter % period == 0',\n",
    "       else print normally.\n",
    "    \"\"\"\n",
    "    period = None\n",
    "    if 'period' in kwargs:\n",
    "        period = kwargs.pop('period')\n",
    "\n",
    "    counter = None\n",
    "    if 'counter' in kwargs:\n",
    "        counter = kwargs.pop('counter')\n",
    "\n",
    "    isPrint = True\n",
    "    if counter and period:\n",
    "        if counter % period != 0:\n",
    "            isPrint = False\n",
    "\n",
    "    if isPrint:\n",
    "        print(*args, **kwargs)\n"
   ]
  }
 ],
 "metadata": {
  "kernelspec": {
   "display_name": "Python 3",
   "language": "python",
   "name": "python3"
  },
  "language_info": {
   "codemirror_mode": {
    "name": "ipython",
    "version": 3
   },
   "file_extension": ".py",
   "mimetype": "text/x-python",
   "name": "python",
   "nbconvert_exporter": "python",
   "pygments_lexer": "ipython3",
   "version": "3.6.8"
  }
 },
 "nbformat": 4,
 "nbformat_minor": 2
}
