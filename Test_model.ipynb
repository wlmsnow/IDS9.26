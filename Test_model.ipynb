{
 "cells": [
  {
   "cell_type": "code",
   "execution_count": null,
   "metadata": {},
   "outputs": [],
   "source": [
    "import io, os, sys, types\n",
    "from IPython import get_ipython\n",
    "from Utils import NotebookFinder\n",
    "import tensorflow as tf\n",
    "import numpy as np\n",
    "import model\n",
    "import matplotlib.pyplot as plt\n",
    "import os\n",
    "import pandas as pd\n",
    "import Train_model"
   ]
  },
  {
   "cell_type": "code",
   "execution_count": null,
   "metadata": {},
   "outputs": [],
   "source": [
    "n_test = 3900\n",
    "flag = 0\n",
    "num_Iteration = 5026\n",
    "BATCH_SIZE = model.BATCH_SIZE"
   ]
  },
  {
   "cell_type": "code",
   "execution_count": null,
   "metadata": {},
   "outputs": [],
   "source": [
    "def evaluation():\n",
    "    with tf.Graph().as_default():   \n",
    "        features = tf.placeholder(tf.float32, [None,81])\n",
    "        labels = tf.placeholder(tf.int32, [None])\n",
    "        keep_prob = tf.placeholder(tf.float32)\n",
    "        global_step = tf.Variable(0, trainable=False)\n",
    "        t_logits = model.inference(features,Train_model.REGULARIZER,keep_prob)\n",
    "        reshape_logits = tf.cast(tf.argmax(t_logits, 1), tf.int32) \n",
    "        num=tf.cast(tf.equal(reshape_logits, labels), dtype=tf.float32)\n",
    "        # tf.nn.in_top_k(predictions, targets, k, name=None)\n",
    "        # 每个样本的预测结果的前k个最大的数里面是否包括包含targets预测中的标签，一般取1，\n",
    "        # 即取预测最大概率的索引与标签的对比\n",
    "        top_k_op = tf.nn.in_top_k(t_logits, tf.reshape(labels,[-1]), 1)\n",
    "        saver = tf.train.Saver()\n",
    "        true_label = []\n",
    "        pred_label = []\n",
    "        # classes = [\"BENIGN\",\"Infiltration\",\"DdoS\",\"PortScan\",\"Bot\",\"FTP_Patator\",\"SSH_Patator\",\"Dos_slowloris\",\"Dos_Slowhttptest\",\"DoS_Hulk\",\"Dos_GoldenEye\",\"Heartbleed\",\"Web_Attack_Brute_Force\",\"Web_Attack_XSS\",\"Web_Attack_Sql_Injection\"]\n",
    "        classes = [\"BENIGN\",\"ATTACK\"]\n",
    "        # classes = [\"DdoS\",\"PortScan\"]\n",
    "        with tf.Session() as session:\n",
    "            ckpt = tf.train.get_checkpoint_state('model_folder/saver')\n",
    "            if ckpt and ckpt.model_checkpoint_path:\n",
    "                saver.restore(session, ckpt.model_checkpoint_path)\n",
    "                #global_step = ckpt.model_checkpoint_path.split('/')[-1].split('-')[-1]\n",
    "            coord = tf.train.Coordinator()\n",
    "            threads = tf.train.start_queue_runners(sess=session, coord=coord)\n",
    "            true_count = 0\n",
    "            for step in range(num_Iteration):\n",
    "\n",
    "                features_test, labels_test = Train_model.next_batch(step,flag,BATCH_SIZE)\n",
    "                #features_test=tf.reshape(features_test, [-1, 7, 7,1])\n",
    "               \n",
    "                \n",
    "                test_logit,predictions,reshape_logits_,num_=session.run([t_logits,top_k_op,reshape_logits,num],feed_dict={features:features_test,labels:labels_test,keep_prob:1.0})\n",
    "                true_label.extend(labels_test)\n",
    "                pred_label.extend(reshape_logits_)\n",
    "                true_count = true_count + np.sum(predictions)\n",
    "            sess = tf.InteractiveSession()\n",
    "            op = tf.confusion_matrix(true_label, pred_label)\n",
    "            print (\"confusion matrix in tensorflow: \")\n",
    "            confusion_matrix = sess.run(op)\n",
    "            # print(confusion_matrix)\n",
    "            sess.close()\n",
    "\n",
    "            # 计算各个类别的正确率\n",
    "            acc = model.accuracyofeachclass(confusion_matrix, true_label, num_classes = 2)\n",
    "            # print(\"true_count\",true_count)\n",
    "            # print(num_epoches * BATCH_SIZE)\n",
    "            precision = true_count / (num_Iteration * BATCH_SIZE)\n",
    "            print('测试precision=', precision)\n",
    "            print(acc)\n",
    "            plt.figure()\n",
    "            plt.plot(classes, acc)\n",
    "            plt.xlabel('accuracy')\n",
    "            plt.ylabel('classification')\n",
    "            plt.title('Accuracy of each classification')\n",
    "            plt.savefig('model_folder/results/loss.png')\n",
    "            plt.show()\n",
    "           # evaluation()\n",
    "            coord.request_stop()\n",
    "            coord.join(threads)\n",
    "        return precision,acc"
   ]
  },
  {
   "cell_type": "code",
   "execution_count": null,
   "metadata": {},
   "outputs": [],
   "source": []
  },
  {
   "cell_type": "code",
   "execution_count": null,
   "metadata": {},
   "outputs": [],
   "source": []
  }
 ],
 "metadata": {
  "kernelspec": {
   "display_name": "Python 3",
   "language": "python",
   "name": "python3"
  },
  "language_info": {
   "codemirror_mode": {
    "name": "ipython",
    "version": 3
   },
   "file_extension": ".py",
   "mimetype": "text/x-python",
   "name": "python",
   "nbconvert_exporter": "python",
   "pygments_lexer": "ipython3",
   "version": "3.6.1"
  }
 },
 "nbformat": 4,
 "nbformat_minor": 2
}
