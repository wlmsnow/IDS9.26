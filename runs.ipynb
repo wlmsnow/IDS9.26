{
 "cells": [
  {
   "cell_type": "code",
   "execution_count": 6,
   "metadata": {},
   "outputs": [],
   "source": [
    "import io, os, sys, types\n",
    "from Utils import NotebookFinder\n",
    "from Configuration import printPeriodic"
   ]
  },
  {
   "cell_type": "code",
   "execution_count": 8,
   "metadata": {},
   "outputs": [],
   "source": [
    "sim = {\n",
    "    'cfg' : {\n",
    "        'run' : { # run parameters\n",
    "            'Kfold'             : 3,\n",
    "            'numEpisodesTrain'    : 1,# 1,        # num. of episodes to run\n",
    "            'numEpisodesTest'    : 1,\n",
    "            'maxStepsTrain'  : 2000,         # max.Train. num. of sim. steps\n",
    "            'maxStepsTest'    : 2000,           #max.Test. num. of sim. steps\n",
    "            'startLearnStep' : 200,           # start periodic training after this step num.\n",
    "            'learnPeriod'    : 5,             # num. of steps between (re)training\n",
    "            'dbgPrint'       : printPeriodic, # function or string name of function for debug print output\n",
    "            'statusPeriod'   : 1000,           # output program status at this interval\n",
    "            'test'           : 0,             #The test code value is 1 and the maxtime value is 101. If the training code is 0, the maxtime value is 350000.\n",
    "            'maxTime'        : 350000,\n",
    "\n",
    "        },\n",
    "        'dqn' : { # DQN parameters\n",
    "            'learningRate'      : 0.000025, # please provide summary comments for each parameter\n",
    "            'rewardDecay'       : 0.9,\n",
    "            'eGreedy'           : 1,\n",
    "            'eGreedyincrement'  : 1/1887150, # Change the e_greedy value\n",
    "            'replaceTargetIter' : 200,\n",
    "            'memorySize'        : 2000,\n",
    "        }\n",
    "    }\n",
    "}"
   ]
  },
  {
   "cell_type": "code",
   "execution_count": null,
   "metadata": {},
   "outputs": [],
   "source": []
  }
 ],
 "metadata": {
  "kernelspec": {
   "display_name": "Python 3",
   "language": "python",
   "name": "python3"
  },
  "language_info": {
   "codemirror_mode": {
    "name": "ipython",
    "version": 3
   },
   "file_extension": ".py",
   "mimetype": "text/x-python",
   "name": "python",
   "nbconvert_exporter": "python",
   "pygments_lexer": "ipython3",
   "version": "3.6.8"
  }
 },
 "nbformat": 4,
 "nbformat_minor": 1
}
